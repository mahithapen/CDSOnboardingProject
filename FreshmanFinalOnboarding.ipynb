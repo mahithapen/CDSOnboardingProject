{
  "nbformat": 4,
  "nbformat_minor": 0,
  "metadata": {
    "colab": {
      "provenance": [],
      "include_colab_link": true
    },
    "kernelspec": {
      "name": "python3",
      "display_name": "Python 3"
    },
    "language_info": {
      "name": "python"
    }
  },
  "cells": [
    {
      "cell_type": "markdown",
      "metadata": {
        "id": "view-in-github",
        "colab_type": "text"
      },
      "source": [
        "<a href=\"https://colab.research.google.com/github/mahithapen/CDSOnboardingProject/blob/main/FreshmanFinalOnboarding.ipynb\" target=\"_parent\"><img src=\"https://colab.research.google.com/assets/colab-badge.svg\" alt=\"Open In Colab\"/></a>"
      ]
    },
    {
      "cell_type": "markdown",
      "source": [
        "# Freshman Final Onboarding: Movie Rating Prediction\n"
      ],
      "metadata": {
        "id": "2UUKA7227Rka"
      }
    },
    {
      "cell_type": "markdown",
      "source": [
        "Import Packages\n"
      ],
      "metadata": {
        "id": "VRBTz-m5mdJZ"
      }
    },
    {
      "cell_type": "code",
      "execution_count": null,
      "metadata": {
        "id": "9WT4oIK_g4_A"
      },
      "outputs": [],
      "source": [
        "import numpy as np\n",
        "import seaborn as sns\n",
        "import matplotlib as mpl\n",
        "import matplotlib.pyplot as plt\n",
        "from sklearn import svm\n",
        "# from sklearn.datasets import load_iris\n",
        "from sklearn.linear_model import LogisticRegression\n",
        "from sklearn.neighbors import KNeighborsClassifier\n",
        "from sklearn.model_selection import train_test_split\n",
        "from sklearn.preprocessing import StandardScaler\n",
        "from sklearn.metrics import accuracy_score\n",
        "import pandas as pd\n",
        "import sys\n",
        "import time\n",
        "from sklearn import svm\n",
        "import statistics\n",
        "plt.style.use('ggplot')"
      ]
    },
    {
      "cell_type": "markdown",
      "source": [
        "Import Datasets"
      ],
      "metadata": {
        "id": "z0aeL_jv0WX8"
      }
    },
    {
      "cell_type": "code",
      "source": [
        "scores = pd.read_csv('genome-scores.csv')\n",
        "tags = pd.read_csv('genome-tags.csv')\n",
        "movies = pd.read_csv('movies.csv')\n",
        "ratings = pd.read_csv('ratings.csv')"
      ],
      "metadata": {
        "id": "k2vHx0mV90ip"
      },
      "execution_count": null,
      "outputs": []
    },
    {
      "cell_type": "markdown",
      "source": [
        "Create list of the tag IDs for positive and negative genome tags"
      ],
      "metadata": {
        "id": "7QopNOmt0Ztd"
      }
    },
    {
      "cell_type": "code",
      "source": [
        "positive_list = [95,96,155,332,1057]\n",
        "negative_list = [445,464,497,505,1059]"
      ],
      "metadata": {
        "id": "TgSKiJ1YBd9p"
      },
      "execution_count": null,
      "outputs": []
    },
    {
      "cell_type": "markdown",
      "source": [
        "**SVM classification**: calculate average positive and negative scores for movies based on genome tag relevance"
      ],
      "metadata": {
        "id": "-57B1ROG0gut"
      }
    },
    {
      "cell_type": "code",
      "source": [
        "#calculate average \n",
        "#for loop over movies numbers\n",
        "arr = np.empty(shape=[0, 2])\n",
        "arr_y = np.empty(shape=[0, 1])\n",
        "arr_both = np.empty(shape=[0, 3])\n",
        "\n",
        "#for movie in range(len(movies['movieId'])): \n",
        "for movie in range(1,80):\n",
        "  ratingVal=0\n",
        "  aboveAvg=True\n",
        "  df1=ratings.loc[(ratings['movieId']==movie)].values[1]\n",
        "  ratingVal=df1[2]\n",
        "\n",
        "  if ratingVal>3.5:\n",
        "    aboveAvg=False\n",
        "  \n",
        "  total=0 \n",
        "  try:\n",
        "    for x in positive_list:\n",
        "      df11=scores.loc[(scores['movieId']==movie) & (scores['tagId']==x) ]\n",
        "      total=total+df11['relevance'].values[0]\n",
        "    positiveAverage=total/5\n",
        "\n",
        "\n",
        "    totalMinus=0\n",
        "    for x in negative_list:\n",
        "      df11=scores.loc[(scores['movieId']==movie) & (scores['tagId']==x) ]\n",
        "      totalMinus=totalMinus+df11['relevance'].values[0]\n",
        "    negativeAverage=totalMinus/5\n",
        "    \n",
        "  \n",
        "  except:\n",
        "    continue\n",
        "  arr = np.append(arr,[[positiveAverage,negativeAverage]], axis=0)\n",
        "  arr_y = np.append(arr_y,[[aboveAvg]], axis=0)\n",
        "  arr_both = np.append(arr_both,[[positiveAverage,negativeAverage,aboveAvg]], axis=0)\n"
      ],
      "metadata": {
        "id": "iDkZrmNPIpof"
      },
      "execution_count": null,
      "outputs": []
    },
    {
      "cell_type": "markdown",
      "source": [
        "Train/Validate/Test Split "
      ],
      "metadata": {
        "id": "kjhqAZiK04LM"
      }
    },
    {
      "cell_type": "code",
      "source": [
        "#split into testing and training data\n",
        "X_train, X_test,y_train, y_test = train_test_split(arr,arr_y,random_state=104, \n",
        "test_size=0.25)"
      ],
      "metadata": {
        "id": "SY571WN9pIZC"
      },
      "execution_count": null,
      "outputs": []
    },
    {
      "cell_type": "markdown",
      "source": [
        "Model Training"
      ],
      "metadata": {
        "id": "ajd8r7hH1EKX"
      }
    },
    {
      "cell_type": "code",
      "source": [
        "#algorithm\n",
        "\n",
        "clf = svm.SVC(kernel='linear')\n",
        "\n",
        "#Train the model using the training sets\n",
        "clf.fit(X_train, y_train)\n",
        "\n",
        "#Predict the response for test dataset\n",
        "y_pred = clf.predict(X_test)"
      ],
      "metadata": {
        "id": "yZjST1repSip",
        "colab": {
          "base_uri": "https://localhost:8080/"
        },
        "outputId": "3fa60b46-4099-4533-925d-d119874fef80"
      },
      "execution_count": null,
      "outputs": [
        {
          "output_type": "stream",
          "name": "stderr",
          "text": [
            "/usr/local/lib/python3.8/dist-packages/sklearn/utils/validation.py:993: DataConversionWarning: A column-vector y was passed when a 1d array was expected. Please change the shape of y to (n_samples, ), for example using ravel().\n",
            "  y = column_or_1d(y, warn=True)\n"
          ]
        }
      ]
    },
    {
      "cell_type": "markdown",
      "source": [
        "Predict Accuracy"
      ],
      "metadata": {
        "id": "VQeOosl91KPy"
      }
    },
    {
      "cell_type": "code",
      "source": [
        "#accuracy\n",
        "accuracy_score(y_test, y_pred)"
      ],
      "metadata": {
        "colab": {
          "base_uri": "https://localhost:8080/"
        },
        "id": "vXRlR0wdj5Lq",
        "outputId": "e82dd02e-bad0-4e34-c1fd-dd08cb08ed29"
      },
      "execution_count": null,
      "outputs": [
        {
          "output_type": "execute_result",
          "data": {
            "text/plain": [
              "0.75"
            ]
          },
          "metadata": {},
          "execution_count": 106
        }
      ]
    },
    {
      "cell_type": "markdown",
      "source": [
        "Visualize Results"
      ],
      "metadata": {
        "id": "r0RmvvDP1MDn"
      }
    },
    {
      "cell_type": "code",
      "source": [
        "#visualization \n",
        "#wrong because np where is manual based on greater or less then when it should be based on algorithm\n",
        "\n",
        "plt.scatter(arr[:, 0],arr[:,1], color = np.where(arr_both[:,2], \"blue\",\"red\"))\n",
        "\n",
        "x1, y1 = [0.05, 0.33], [0.1, 0.5]\n",
        "plt.plot(x1, y1)\n",
        "\n",
        "plt.show()"
      ],
      "metadata": {
        "id": "aH6DJuu8hccJ",
        "colab": {
          "base_uri": "https://localhost:8080/",
          "height": 268
        },
        "outputId": "5b2461ca-77bf-472e-93b3-e222db527c5a"
      },
      "execution_count": null,
      "outputs": [
        {
          "output_type": "display_data",
          "data": {
            "text/plain": [
              "<Figure size 432x288 with 1 Axes>"
            ],
            "image/png": "[encoded data removed]"
          },
          "metadata": {}
        }
      ]
    },
    {
      "cell_type": "markdown",
      "source": [
        "Neural Network"
      ],
      "metadata": {
        "id": "G_uRgO3Y1NtD"
      }
    },
    {
      "cell_type": "code",
      "source": [
        "arr2 = np.empty(shape=[0, 1])\n",
        "\n",
        "for movie in range(len(movies['movieId'])): \n",
        "  totalrate=0\n",
        "  raters=0\n",
        "  try:\n",
        "    for x in len(ratings['userId']):\n",
        "      df11=ratings.loc[(ratings['movieId']==movie)\n",
        "      totalrate=totalrate+df11['rating'].values[0]\n",
        "      raters=raters + 1\n",
        "    scoreavg=totalrate/raters      \n",
        "  except:\n",
        "    continue\n",
        "  # can we use the value of pos/neg from before and then add the scoreaverage and then build NN by cosine similarity or something?\n",
        "  arr2 = np.append(arr,[[positiveAverage,negativeAverage, posorneg]], axis=0)\n",
        "print(arr)"
      ],
      "metadata": {
        "id": "Gj2AJjrmSluW",
        "colab": {
          "base_uri": "https://localhost:8080/",
          "height": 131
        },
        "outputId": "a9a92cff-41fe-4adf-aa1a-dd7ec97fd3a0"
      },
      "execution_count": null,
      "outputs": [
        {
          "output_type": "error",
          "ename": "SyntaxError",
          "evalue": "ignored",
          "traceback": [
            "\u001b[0;36m  File \u001b[0;32m\"<ipython-input-108-2667ca0610fe>\"\u001b[0;36m, line \u001b[0;32m9\u001b[0m\n\u001b[0;31m    totalrate=totalrate+df11['rating'].values[0]\u001b[0m\n\u001b[0m    ^\u001b[0m\n\u001b[0;31mSyntaxError\u001b[0m\u001b[0;31m:\u001b[0m invalid syntax\n"
          ]
        }
      ]
    }
  ]
}